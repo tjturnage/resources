{
 "cells": [
  {
   "cell_type": "code",
   "execution_count": 17,
   "metadata": {},
   "outputs": [],
   "source": [
    "radar_data = {}\n",
    "with open('C:/data/scripts/resources/radars.txt') as fin:\n",
    "    text = fin.read()\n",
    "    lines = text.splitlines()\n",
    "    for line in lines:\n",
    "        data = line.split(',')\n",
    "        if len(data) > 1 and data[0][0] not in ('p','t'):\n",
    "            #print(data[0].upper())\n",
    "            radar_data[data[0].upper()] = {'name':data[-1],'state':data[-2],'lat':float(data[2]),'lon':float(data[3]) }\n",
    "\n",
    "with open('C:/data/scripts/resources/radar_dict.txt','w') as fout:\n",
    "    fout.write(str(radar_data))"
   ]
  }
 ],
 "metadata": {
  "interpreter": {
   "hash": "2c246163ccda9c84ac967943b7c88222a5e694b2e97d17074cb9dd1224164f48"
  },
  "kernelspec": {
   "display_name": "Python 3.9.12 ('pyart_env')",
   "language": "python",
   "name": "python3"
  },
  "language_info": {
   "codemirror_mode": {
    "name": "ipython",
    "version": 3
   },
   "file_extension": ".py",
   "mimetype": "text/x-python",
   "name": "python",
   "nbconvert_exporter": "python",
   "pygments_lexer": "ipython3",
   "version": "3.9.12"
  },
  "orig_nbformat": 4
 },
 "nbformat": 4,
 "nbformat_minor": 2
}
